{
 "cells": [
  {
   "cell_type": "markdown",
   "metadata": {},
   "source": [
    "#### Three ways to create an empty class"
   ]
  },
  {
   "cell_type": "code",
   "execution_count": 1,
   "metadata": {},
   "outputs": [],
   "source": [
    "class Banking():\n",
    "    pass"
   ]
  },
  {
   "cell_type": "code",
   "execution_count": 2,
   "metadata": {},
   "outputs": [],
   "source": [
    "class Banker(object):\n",
    "    pass"
   ]
  },
  {
   "cell_type": "code",
   "execution_count": 3,
   "metadata": {},
   "outputs": [],
   "source": [
    "class bankers:\n",
    "    pass"
   ]
  },
  {
   "cell_type": "markdown",
   "metadata": {},
   "source": [
    "#### Object\n",
    "Collection of data and its functionality.<br> \n",
    "An object is instance of class, which has attributes(meaning property & methods(kind of action which we are performing on object)."
   ]
  },
  {
   "cell_type": "code",
   "execution_count": 6,
   "metadata": {},
   "outputs": [
    {
     "name": "stdout",
     "output_type": "stream",
     "text": [
      "<__main__.Hello object at 0x000002BFAA27F610>\n"
     ]
    }
   ],
   "source": [
    "class Hello():\n",
    "    pass\n",
    "\"\"\"\n",
    "hh is an object or instance or Reference variables\n",
    "hh is object or instance of the class\n",
    "\"\"\"\n",
    "hh = Hello()\n",
    "print(hh)"
   ]
  },
  {
   "cell_type": "markdown",
   "metadata": {},
   "source": [
    "#### Function and Method"
   ]
  },
  {
   "cell_type": "code",
   "execution_count": 10,
   "metadata": {},
   "outputs": [
    {
     "ename": "TypeError",
     "evalue": "Login() takes 0 positional arguments but 1 was given",
     "output_type": "error",
     "traceback": [
      "\u001b[1;31m---------------------------------------------------------------------------\u001b[0m",
      "\u001b[1;31mTypeError\u001b[0m                                 Traceback (most recent call last)",
      "\u001b[1;32m<ipython-input-10-8b741a5e5a08>\u001b[0m in \u001b[0;36m<module>\u001b[1;34m\u001b[0m\n\u001b[0;32m     10\u001b[0m \u001b[1;31m#creating reference variable\u001b[0m\u001b[1;33m\u001b[0m\u001b[1;33m\u001b[0m\u001b[1;33m\u001b[0m\u001b[0m\n\u001b[0;32m     11\u001b[0m \u001b[0mbb\u001b[0m \u001b[1;33m=\u001b[0m \u001b[0mBanking\u001b[0m\u001b[1;33m(\u001b[0m\u001b[1;33m)\u001b[0m\u001b[1;33m\u001b[0m\u001b[1;33m\u001b[0m\u001b[0m\n\u001b[1;32m---> 12\u001b[1;33m \u001b[0mbb\u001b[0m\u001b[1;33m.\u001b[0m\u001b[0mLogin\u001b[0m\u001b[1;33m(\u001b[0m\u001b[1;33m)\u001b[0m\u001b[1;33m\u001b[0m\u001b[1;33m\u001b[0m\u001b[0m\n\u001b[0m\u001b[0;32m     13\u001b[0m \u001b[1;33m\u001b[0m\u001b[0m\n\u001b[0;32m     14\u001b[0m \u001b[1;31m#Inside a class a function is method.\u001b[0m\u001b[1;33m\u001b[0m\u001b[1;33m\u001b[0m\u001b[1;33m\u001b[0m\u001b[0m\n",
      "\u001b[1;31mTypeError\u001b[0m: Login() takes 0 positional arguments but 1 was given"
     ]
    }
   ],
   "source": [
    "class Banking():    #class\n",
    "    def Login():    #method\n",
    "        print('Welcome to login')\n",
    "        print('Credentials are mandatory')\n",
    "        print('Thank U')\n",
    "        \n",
    "#Drive code\n",
    "#creating objects\n",
    "#creating instance\n",
    "#creating reference variable\n",
    "bb = Banking()\n",
    "bb.Login()\n",
    "\n",
    "#Inside a class a function is method."
   ]
  },
  {
   "cell_type": "markdown",
   "metadata": {},
   "source": [
    "#### Self variable:\n",
    "self is the default variable which is always pointing to current object(like this keyword in java) by using self we can access instance variables and instance methods of object."
   ]
  },
  {
   "cell_type": "code",
   "execution_count": 11,
   "metadata": {},
   "outputs": [
    {
     "name": "stdout",
     "output_type": "stream",
     "text": [
      "Welcome to login\n",
      "Credentials are mandatory\n",
      "Thank U\n"
     ]
    }
   ],
   "source": [
    "class Banking():        # class\n",
    "    def Login(self):    # method\n",
    "        print('Welcome to login')\n",
    "        print('Credentials are mandatory')\n",
    "        print('Thank U')\n",
    "        \n",
    "#Drive code\n",
    "#creating objects\n",
    "#creating instance\n",
    "#creating reference variable\n",
    "bb = Banking()\n",
    "bb.Login()\n",
    "\n",
    "#Inside a class a function is method."
   ]
  },
  {
   "cell_type": "markdown",
   "metadata": {},
   "source": [
    "#### Case Study"
   ]
  },
  {
   "cell_type": "code",
   "execution_count": 12,
   "metadata": {},
   "outputs": [
    {
     "ename": "TypeError",
     "evalue": "Login() missing 1 required positional argument: 'm'",
     "output_type": "error",
     "traceback": [
      "\u001b[1;31m---------------------------------------------------------------------------\u001b[0m",
      "\u001b[1;31mTypeError\u001b[0m                                 Traceback (most recent call last)",
      "\u001b[1;32m<ipython-input-12-169c5f65cc4c>\u001b[0m in \u001b[0;36m<module>\u001b[1;34m\u001b[0m\n\u001b[0;32m      6\u001b[0m \u001b[1;33m\u001b[0m\u001b[0m\n\u001b[0;32m      7\u001b[0m \u001b[0mbb\u001b[0m \u001b[1;33m=\u001b[0m \u001b[0mBanking\u001b[0m\u001b[1;33m(\u001b[0m\u001b[1;33m)\u001b[0m\u001b[1;33m\u001b[0m\u001b[1;33m\u001b[0m\u001b[0m\n\u001b[1;32m----> 8\u001b[1;33m \u001b[0mbb\u001b[0m\u001b[1;33m.\u001b[0m\u001b[0mLogin\u001b[0m\u001b[1;33m(\u001b[0m\u001b[1;33m)\u001b[0m\u001b[1;33m\u001b[0m\u001b[1;33m\u001b[0m\u001b[0m\n\u001b[0m",
      "\u001b[1;31mTypeError\u001b[0m: Login() missing 1 required positional argument: 'm'"
     ]
    }
   ],
   "source": [
    "class Banking():       \n",
    "    def Login(self,m):   \n",
    "        print('Welcome to login')\n",
    "        print('Credentials are mandatory')\n",
    "        print('Thank U')\n",
    "        \n",
    "bb = Banking()\n",
    "bb.Login()"
   ]
  },
  {
   "cell_type": "code",
   "execution_count": 13,
   "metadata": {},
   "outputs": [
    {
     "name": "stdout",
     "output_type": "stream",
     "text": [
      "Welcome to login\n",
      "Credentials are mandatory\n",
      "Thank U\n"
     ]
    }
   ],
   "source": [
    "class Banking():       \n",
    "    def Login(self,m):   \n",
    "        print('Welcome to login')\n",
    "        print('Credentials are mandatory')\n",
    "        print('Thank U')\n",
    "        \n",
    "bb = Banking()\n",
    "bb.Login(1)"
   ]
  },
  {
   "cell_type": "code",
   "execution_count": 14,
   "metadata": {},
   "outputs": [
    {
     "ename": "TypeError",
     "evalue": "Login() takes 2 positional arguments but 3 were given",
     "output_type": "error",
     "traceback": [
      "\u001b[1;31m---------------------------------------------------------------------------\u001b[0m",
      "\u001b[1;31mTypeError\u001b[0m                                 Traceback (most recent call last)",
      "\u001b[1;32m<ipython-input-14-ebad60b8d800>\u001b[0m in \u001b[0;36m<module>\u001b[1;34m\u001b[0m\n\u001b[0;32m      6\u001b[0m \u001b[1;33m\u001b[0m\u001b[0m\n\u001b[0;32m      7\u001b[0m \u001b[0mbb\u001b[0m \u001b[1;33m=\u001b[0m \u001b[0mBanking\u001b[0m\u001b[1;33m(\u001b[0m\u001b[1;33m)\u001b[0m\u001b[1;33m\u001b[0m\u001b[1;33m\u001b[0m\u001b[0m\n\u001b[1;32m----> 8\u001b[1;33m \u001b[0mbb\u001b[0m\u001b[1;33m.\u001b[0m\u001b[0mLogin\u001b[0m\u001b[1;33m(\u001b[0m\u001b[1;36m1\u001b[0m\u001b[1;33m,\u001b[0m\u001b[1;36m2\u001b[0m\u001b[1;33m)\u001b[0m\u001b[1;33m\u001b[0m\u001b[1;33m\u001b[0m\u001b[0m\n\u001b[0m",
      "\u001b[1;31mTypeError\u001b[0m: Login() takes 2 positional arguments but 3 were given"
     ]
    }
   ],
   "source": [
    "class Banking():       \n",
    "    def Login(self,m):   \n",
    "        print('Welcome to login')\n",
    "        print('Credentials are mandatory')\n",
    "        print('Thank U')\n",
    "        \n",
    "bb = Banking()\n",
    "bb.Login(1,2)"
   ]
  },
  {
   "cell_type": "code",
   "execution_count": 18,
   "metadata": {},
   "outputs": [
    {
     "name": "stdout",
     "output_type": "stream",
     "text": [
      "Welcome to login\n",
      "Credentials are mandatory\n",
      "Thank U\n"
     ]
    }
   ],
   "source": [
    "class Banking():       \n",
    "    def Login(self,m,n):   \n",
    "        print('Welcome to login')\n",
    "        print('Credentials are mandatory')\n",
    "        print('Thank U')\n",
    "        \n",
    "bb = Banking()\n",
    "bb.Login(1,2)"
   ]
  },
  {
   "cell_type": "code",
   "execution_count": 19,
   "metadata": {},
   "outputs": [
    {
     "name": "stdout",
     "output_type": "stream",
     "text": [
      "Welcome to login\n",
      "Credentials are mandatory\n",
      "Thank U\n"
     ]
    }
   ],
   "source": [
    "class Banking():       \n",
    "    def Login(m,n,p):   \n",
    "        print('Welcome to login')\n",
    "        print('Credentials are mandatory')\n",
    "        print('Thank U')\n",
    "        \n",
    "bb = Banking()\n",
    "bb.Login(1,2)"
   ]
  },
  {
   "cell_type": "code",
   "execution_count": 20,
   "metadata": {},
   "outputs": [
    {
     "ename": "TypeError",
     "evalue": "Login() takes 2 positional arguments but 3 were given",
     "output_type": "error",
     "traceback": [
      "\u001b[1;31m---------------------------------------------------------------------------\u001b[0m",
      "\u001b[1;31mTypeError\u001b[0m                                 Traceback (most recent call last)",
      "\u001b[1;32m<ipython-input-20-413084c17805>\u001b[0m in \u001b[0;36m<module>\u001b[1;34m\u001b[0m\n\u001b[0;32m      6\u001b[0m \u001b[1;33m\u001b[0m\u001b[0m\n\u001b[0;32m      7\u001b[0m \u001b[0mbb\u001b[0m \u001b[1;33m=\u001b[0m \u001b[0mBanking\u001b[0m\u001b[1;33m(\u001b[0m\u001b[1;33m)\u001b[0m\u001b[1;33m\u001b[0m\u001b[1;33m\u001b[0m\u001b[0m\n\u001b[1;32m----> 8\u001b[1;33m \u001b[0mbb\u001b[0m\u001b[1;33m.\u001b[0m\u001b[0mLogin\u001b[0m\u001b[1;33m(\u001b[0m\u001b[1;36m1\u001b[0m\u001b[1;33m,\u001b[0m\u001b[1;36m2\u001b[0m\u001b[1;33m)\u001b[0m\u001b[1;33m\u001b[0m\u001b[1;33m\u001b[0m\u001b[0m\n\u001b[0m",
      "\u001b[1;31mTypeError\u001b[0m: Login() takes 2 positional arguments but 3 were given"
     ]
    }
   ],
   "source": [
    "class Banking():       \n",
    "    def Login(m,n):   \n",
    "        print('Welcome to login')\n",
    "        print('Credentials are mandatory')\n",
    "        print('Thank U')\n",
    "        \n",
    "bb = Banking()\n",
    "bb.Login(1,2)"
   ]
  },
  {
   "cell_type": "code",
   "execution_count": 21,
   "metadata": {},
   "outputs": [
    {
     "name": "stdout",
     "output_type": "stream",
     "text": [
      "Welcome to login\n",
      "Credentials are mandatory\n",
      "Thank U\n"
     ]
    }
   ],
   "source": [
    "class Banking():       \n",
    "    def Login(m,n):   \n",
    "        print('Welcome to login')\n",
    "        print('Credentials are mandatory')\n",
    "        print('Thank U')\n",
    "        \n",
    "bb = Banking()\n",
    "bb.Login(1)"
   ]
  },
  {
   "cell_type": "code",
   "execution_count": 22,
   "metadata": {},
   "outputs": [
    {
     "ename": "TypeError",
     "evalue": "Login() takes 1 positional argument but 2 were given",
     "output_type": "error",
     "traceback": [
      "\u001b[1;31m---------------------------------------------------------------------------\u001b[0m",
      "\u001b[1;31mTypeError\u001b[0m                                 Traceback (most recent call last)",
      "\u001b[1;32m<ipython-input-22-9b9528ac6376>\u001b[0m in \u001b[0;36m<module>\u001b[1;34m\u001b[0m\n\u001b[0;32m      6\u001b[0m \u001b[1;33m\u001b[0m\u001b[0m\n\u001b[0;32m      7\u001b[0m \u001b[0mbb\u001b[0m \u001b[1;33m=\u001b[0m \u001b[0mBanking\u001b[0m\u001b[1;33m(\u001b[0m\u001b[1;33m)\u001b[0m\u001b[1;33m\u001b[0m\u001b[1;33m\u001b[0m\u001b[0m\n\u001b[1;32m----> 8\u001b[1;33m \u001b[0mbb\u001b[0m\u001b[1;33m.\u001b[0m\u001b[0mLogin\u001b[0m\u001b[1;33m(\u001b[0m\u001b[1;36m1\u001b[0m\u001b[1;33m)\u001b[0m\u001b[1;33m\u001b[0m\u001b[1;33m\u001b[0m\u001b[0m\n\u001b[0m",
      "\u001b[1;31mTypeError\u001b[0m: Login() takes 1 positional argument but 2 were given"
     ]
    }
   ],
   "source": [
    "class Banking():       \n",
    "    def Login(m):   \n",
    "        print('Welcome to login')\n",
    "        print('Credentials are mandatory')\n",
    "        print('Thank U')\n",
    "        \n",
    "bb = Banking()\n",
    "bb.Login(1)"
   ]
  },
  {
   "cell_type": "code",
   "execution_count": 24,
   "metadata": {},
   "outputs": [
    {
     "name": "stdout",
     "output_type": "stream",
     "text": [
      "Welcome to login\n",
      "Credentials are mandatory\n",
      "Thank U\n"
     ]
    }
   ],
   "source": [
    "class Banking():       \n",
    "    def Login(m):   #externally 'm' implicitly self\n",
    "        print('Welcome to login')\n",
    "        print('Credentials are mandatory')\n",
    "        print('Thank U')\n",
    "        \n",
    "bb = Banking()\n",
    "bb.Login()"
   ]
  },
  {
   "cell_type": "code",
   "execution_count": 25,
   "metadata": {},
   "outputs": [
    {
     "name": "stdout",
     "output_type": "stream",
     "text": [
      "Enter Any Number: 4\n",
      "Enter Any Number: 0\n",
      "Y must not ZERO\n",
      "FinallyBlockSuccess\n"
     ]
    }
   ],
   "source": [
    "class MyExceptions():\n",
    "    def TryCatch(self):\n",
    "        try:\n",
    "            x = int(input(\"Enter Any Number: \"))\n",
    "            y = int(input(\"Enter Any Number: \"))\n",
    "            z = x/y\n",
    "            print('The result is: ',z)\n",
    "        except ZeroDivisionError:\n",
    "            print('Y must not ZERO')\n",
    "        except ValueError:\n",
    "            print('User Enter Invalid Input')\n",
    "        finally:\n",
    "            print('FinallyBlockSuccess')\n",
    "\n",
    "MM = MyExceptions()\n",
    "MM.TryCatch()"
   ]
  },
  {
   "cell_type": "code",
   "execution_count": 26,
   "metadata": {},
   "outputs": [
    {
     "name": "stdout",
     "output_type": "stream",
     "text": [
      "Enter Any Number: 4\n",
      "Enter Any Number: 2\n",
      "The result is:  2.0\n",
      "FinallyBlockSuccess\n"
     ]
    }
   ],
   "source": [
    "MM.TryCatch()"
   ]
  },
  {
   "cell_type": "markdown",
   "metadata": {},
   "source": [
    "#### Difference between Function and Method\n",
    "Function:\n",
    "1. It is always indepentent, not related to any class\n",
    "2. Outside the class a piece of code\n",
    "3. No self parameter required\n",
    "4. No instance required to call\n",
    "\n",
    "Method:\n",
    "1. It is always related to a class\n",
    "2. inside the class a piece of code\n",
    "3. self parameter required\n",
    "4. Always instance required to call"
   ]
  },
  {
   "cell_type": "markdown",
   "metadata": {},
   "source": [
    "#### Constructor in PYTHON:\n",
    "    1 It is a special method in python.\n",
    "    2 Name of the constructor should be __init__\n",
    "    3 It will be executed automatically at the time of object creation.\n",
    "    4 The main advantage of constructor is to declare and initialize instance variables.\n",
    "    5 For every instance constructor will be exeucted one-time\n",
    "    6 It can take atleast one argument(self)\n",
    "    7 It is an optional, if we are not providing any constructor then Python will provide default constructor."
   ]
  },
  {
   "cell_type": "markdown",
   "metadata": {},
   "source": [
    "#### Differences between Methods and Constructors:\n",
    "Method\n",
    "1. Method can be any name\n",
    "2. It will be executed if we call that method\n",
    "3. For an object, method can be called any number of times.\n",
    "4. Method contains business logic\n",
    "\n",
    "Constructor\n",
    "1. Name should be always __init__\n",
    "2. It will be executed automatically at the time of object creation.\n",
    "3. For  object, Constructor will be executed one-time\n",
    "4. Constructor  Inside we have to declare, initialize instance variable"
   ]
  },
  {
   "cell_type": "code",
   "execution_count": 28,
   "metadata": {},
   "outputs": [
    {
     "name": "stdout",
     "output_type": "stream",
     "text": [
      "Hey I am the constructor\n",
      "I can get executes by default\n"
     ]
    }
   ],
   "source": [
    "class Banking():\n",
    "    def __init__(self):\n",
    "        print('Hey I am the constructor')\n",
    "        print('I can get executes by default')\n",
    "\n",
    "bb = Banking()"
   ]
  },
  {
   "cell_type": "code",
   "execution_count": 29,
   "metadata": {},
   "outputs": [
    {
     "name": "stdout",
     "output_type": "stream",
     "text": [
      "Hey I am the constructor\n",
      "I can get executes by default\n",
      "Hello Welcome to Py OOPs\n",
      "Thanks U\n"
     ]
    }
   ],
   "source": [
    "class Banking():\n",
    "    def __init__(self):\n",
    "        print('Hey I am the constructor')\n",
    "        print('I can get executes by default')\n",
    "    def HelloGuys(self):\n",
    "        print('Hello Welcome to Py OOPs')\n",
    "        print('Thanks U')\n",
    "\n",
    "bb = Banking()\n",
    "bb.HelloGuys()\n",
    "\"\"\"\n",
    "In above code, there is two methods and two constructors are available.\n",
    "python provide one default contructor and another one is visible to us. \n",
    "\"\"\""
   ]
  },
  {
   "cell_type": "code",
   "execution_count": 30,
   "metadata": {},
   "outputs": [
    {
     "name": "stdout",
     "output_type": "stream",
     "text": [
      "Hey I am the constructor\n",
      "I can get executes by default\n",
      "Hello Welcome to Py OOPs\n",
      "Thanks U\n",
      "Hey I am the constructor\n",
      "I can get executes by default\n"
     ]
    }
   ],
   "source": [
    "class Banking():\n",
    "    def __init__(self):\n",
    "        print('Hey I am the constructor')\n",
    "        print('I can get executes by default')\n",
    "    def HelloGuys(self):\n",
    "        print('Hello Welcome to Py OOPs')\n",
    "        print('Thanks U')\n",
    "\n",
    "bb = Banking()\n",
    "bb.HelloGuys()\n",
    "cc = Banking()"
   ]
  },
  {
   "cell_type": "code",
   "execution_count": 32,
   "metadata": {},
   "outputs": [
    {
     "name": "stdout",
     "output_type": "stream",
     "text": [
      "Hey I am the constructor\n",
      "I can get executes by default\n",
      "Hello Welcome to Py OOPs\n",
      "Thanks U\n"
     ]
    }
   ],
   "source": [
    "class Banking():\n",
    "    def __init__(self):\n",
    "        print('Hey I am the constructor')\n",
    "        print('I can get executes by default')\n",
    "    def HelloGuys(self):\n",
    "        print('Hello Welcome to Py OOPs')\n",
    "        print('Thanks U')\n",
    "\n",
    "bb = Banking()\n",
    "bb.HelloGuys()\n",
    "cc = Banking  #if not giving bractes aliasing"
   ]
  },
  {
   "cell_type": "code",
   "execution_count": 34,
   "metadata": {},
   "outputs": [
    {
     "name": "stdout",
     "output_type": "stream",
     "text": [
      "Hey I am the constructor\n",
      "I can get executes by default\n",
      "Hey I am the constructor\n",
      "I can get executes by default\n"
     ]
    }
   ],
   "source": [
    "bb = Banking()\n",
    "bb.HelloGuys\n",
    "cc = Banking()"
   ]
  },
  {
   "cell_type": "code",
   "execution_count": 35,
   "metadata": {},
   "outputs": [
    {
     "name": "stdout",
     "output_type": "stream",
     "text": [
      "Hey I am the constructor\n",
      "I can get executes by default\n"
     ]
    }
   ],
   "source": [
    "bb = Banking\n",
    "cc = Banking()"
   ]
  },
  {
   "cell_type": "code",
   "execution_count": 36,
   "metadata": {},
   "outputs": [],
   "source": [
    "bb = Banking\n",
    "cc = Banking"
   ]
  },
  {
   "cell_type": "code",
   "execution_count": 38,
   "metadata": {},
   "outputs": [
    {
     "name": "stdout",
     "output_type": "stream",
     "text": [
      "Hey I am the Second constructor\n",
      "I can get executes by default\n",
      "Hello Welcome to Py OOPs\n",
      "Thanks U\n",
      "Hey I am the Second constructor\n",
      "I can get executes by default\n"
     ]
    }
   ],
   "source": [
    "class Banking():\n",
    "    def __init__(self):\n",
    "        print('Hey I am the First constructor')\n",
    "        print('I can get executes by default')\n",
    "    def __init__(self):\n",
    "        print('Hey I am the Second constructor')\n",
    "        print('I can get executes by default')\n",
    "    def HelloGuys(self):\n",
    "        print('Hello Welcome to Py OOPs')\n",
    "        print('Thanks U')\n",
    "\n",
    "bb = Banking()\n",
    "bb.HelloGuys()\n",
    "cc = Banking()\n",
    "#Overriding(polymorphism) : If two methods have same name child method override parent."
   ]
  },
  {
   "cell_type": "markdown",
   "metadata": {},
   "source": [
    "#### In Python class we can represent data by using the following variables.\n",
    "    1.Instance Variables (Object Level Variables)\n",
    "    2.Static Variables (Class Level Variables)\n",
    "    3.Local variables (Method Level Variables)\n",
    "\n",
    "Instance Variables:\n",
    "If the value of a variable is varied from object to object, for every object a separate copy of instance variables will be created.\n",
    "\n",
    "Where we can declare Instance Variables:\n",
    "1. Inside Constructor by using self variable\n",
    "2. Inside Instance Method by using self variable\n",
    "3. Outside of the class by using object reference variable\n"
   ]
  },
  {
   "cell_type": "code",
   "execution_count": 39,
   "metadata": {},
   "outputs": [
    {
     "ename": "TypeError",
     "evalue": "__init__() missing 3 required positional arguments: 'name', 'eid', and 'loc'",
     "output_type": "error",
     "traceback": [
      "\u001b[1;31m---------------------------------------------------------------------------\u001b[0m",
      "\u001b[1;31mTypeError\u001b[0m                                 Traceback (most recent call last)",
      "\u001b[1;32m<ipython-input-39-cadaaa474cf5>\u001b[0m in \u001b[0;36m<module>\u001b[1;34m\u001b[0m\n\u001b[0;32m     11\u001b[0m \u001b[1;33m\u001b[0m\u001b[0m\n\u001b[0;32m     12\u001b[0m \u001b[1;31m#instance variable or object\u001b[0m\u001b[1;33m\u001b[0m\u001b[1;33m\u001b[0m\u001b[1;33m\u001b[0m\u001b[0m\n\u001b[1;32m---> 13\u001b[1;33m \u001b[0mee\u001b[0m \u001b[1;33m=\u001b[0m \u001b[0mEmployee\u001b[0m\u001b[1;33m(\u001b[0m\u001b[1;33m)\u001b[0m\u001b[1;33m\u001b[0m\u001b[1;33m\u001b[0m\u001b[0m\n\u001b[0m",
      "\u001b[1;31mTypeError\u001b[0m: __init__() missing 3 required positional arguments: 'name', 'eid', and 'loc'"
     ]
    }
   ],
   "source": [
    "class Employee():\n",
    "    def __init__(self,name,eid,loc):\n",
    "        #instance variable\n",
    "        self.na = name   #left side user defined but right side must match arg.\n",
    "        self.ei = eid\n",
    "        self.lc = loc\n",
    "    def eDetails(self):\n",
    "        print('Hello: ', self.na)\n",
    "        print('EID: ', self.ei)\n",
    "        print('Location: ', self.lc)\n",
    "\n",
    "#instance variable or object\n",
    "ee = Employee()"
   ]
  },
  {
   "cell_type": "code",
   "execution_count": 47,
   "metadata": {},
   "outputs": [
    {
     "name": "stdout",
     "output_type": "stream",
     "text": [
      "Hello:  Rakesh\n",
      "EID:  1001\n",
      "Location:  Bls\n"
     ]
    }
   ],
   "source": [
    "class Employee():\n",
    "    def __init__(self,name,eid,loc): #con. use for automatic excution\n",
    "        #instance variable\n",
    "        self.na = name   #left side user defined but right side must match arg.\n",
    "        self.ei = eid\n",
    "        self.lc = loc\n",
    "    def eDetails(self):\n",
    "        print('Hello: ', self.na)\n",
    "        print('EID: ', self.ei)\n",
    "        print('Location: ', self.lc)\n",
    "\n",
    "#instance variable or object\n",
    "ee = Employee(\"Rakesh\",1001,'Bls') # code executed but no output\n",
    "ee.eDetails()"
   ]
  },
  {
   "cell_type": "code",
   "execution_count": 43,
   "metadata": {},
   "outputs": [
    {
     "ename": "TypeError",
     "evalue": "Employee() takes no arguments",
     "output_type": "error",
     "traceback": [
      "\u001b[1;31m---------------------------------------------------------------------------\u001b[0m",
      "\u001b[1;31mTypeError\u001b[0m                                 Traceback (most recent call last)",
      "\u001b[1;32m<ipython-input-43-4de9509ffee0>\u001b[0m in \u001b[0;36m<module>\u001b[1;34m\u001b[0m\n\u001b[0;32m     11\u001b[0m \u001b[1;33m\u001b[0m\u001b[0m\n\u001b[0;32m     12\u001b[0m \u001b[1;31m#instance variable or object\u001b[0m\u001b[1;33m\u001b[0m\u001b[1;33m\u001b[0m\u001b[1;33m\u001b[0m\u001b[0m\n\u001b[1;32m---> 13\u001b[1;33m \u001b[0mee\u001b[0m \u001b[1;33m=\u001b[0m \u001b[0mEmployee\u001b[0m\u001b[1;33m(\u001b[0m\u001b[1;34m\"Rakesh\"\u001b[0m\u001b[1;33m,\u001b[0m\u001b[1;36m1001\u001b[0m\u001b[1;33m,\u001b[0m\u001b[1;34m'Bls'\u001b[0m\u001b[1;33m)\u001b[0m \u001b[1;31m# code executed but no output\u001b[0m\u001b[1;33m\u001b[0m\u001b[1;33m\u001b[0m\u001b[0m\n\u001b[0m\u001b[0;32m     14\u001b[0m \u001b[0mee\u001b[0m\u001b[1;33m.\u001b[0m\u001b[0meDetails\u001b[0m\u001b[1;33m(\u001b[0m\u001b[1;33m)\u001b[0m\u001b[1;33m\u001b[0m\u001b[1;33m\u001b[0m\u001b[0m\n",
      "\u001b[1;31mTypeError\u001b[0m: Employee() takes no arguments"
     ]
    }
   ],
   "source": [
    "class Employee():\n",
    "    def Emp(self,name,eid,loc):\n",
    "        #instance variable\n",
    "        self.na = name   #left side user defined but right side must match arg.\n",
    "        self.ei = eid\n",
    "        self.lc = loc\n",
    "    def eDetails(self):\n",
    "        print('Hello: ', self.na)\n",
    "        print('EID: ', self.ei)\n",
    "        print('Location: ', self.lc)\n",
    "\n",
    "#instance variable or object\n",
    "ee = Employee(\"Rakesh\",1001,'Bls')\n",
    "ee.eDetails()"
   ]
  },
  {
   "cell_type": "code",
   "execution_count": 46,
   "metadata": {},
   "outputs": [
    {
     "name": "stdout",
     "output_type": "stream",
     "text": [
      "Hello:  Rakesh\n",
      "EID:  1001\n",
      "Location:  Bls\n"
     ]
    }
   ],
   "source": [
    "class Employee():\n",
    "    def Emp(self,name,eid,loc):\n",
    "        #instance variable\n",
    "        self.na = name   #left side user defined but right side must match arg.\n",
    "        self.ei = eid\n",
    "        self.lc = loc\n",
    "    def eDetails(self):\n",
    "        print('Hello: ', self.na)\n",
    "        print('EID: ', self.ei)\n",
    "        print('Location: ', self.lc)\n",
    "\n",
    "#instance variable or object\n",
    "ee = Employee()\n",
    "ee.Emp(\"Rakesh\",1001,'Bls')\n",
    "ee.eDetails()"
   ]
  },
  {
   "cell_type": "markdown",
   "metadata": {},
   "source": [
    "#### Important Question:"
   ]
  },
  {
   "cell_type": "code",
   "execution_count": 48,
   "metadata": {},
   "outputs": [
    {
     "name": "stdout",
     "output_type": "stream",
     "text": [
      "4\n"
     ]
    }
   ],
   "source": [
    "import sys\n",
    "class insure():\n",
    "    pass\n",
    "ii = insure()\n",
    "ii1 = ii\n",
    "ii2 = ii1\n",
    "print(sys.getrefcount(ii))"
   ]
  },
  {
   "cell_type": "code",
   "execution_count": null,
   "metadata": {},
   "outputs": [],
   "source": []
  }
 ],
 "metadata": {
  "kernelspec": {
   "display_name": "Python 3",
   "language": "python",
   "name": "python3"
  },
  "language_info": {
   "codemirror_mode": {
    "name": "ipython",
    "version": 3
   },
   "file_extension": ".py",
   "mimetype": "text/x-python",
   "name": "python",
   "nbconvert_exporter": "python",
   "pygments_lexer": "ipython3",
   "version": "3.9.1"
  }
 },
 "nbformat": 4,
 "nbformat_minor": 4
}
