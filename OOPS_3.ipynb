{
 "cells": [
  {
   "cell_type": "markdown",
   "metadata": {},
   "source": [
    "#### What is Garbage Collection?\n",
    "Garbage Collection (GC) is a form of automatic memory management.\n",
    "The concept of removing the unused,unreferenced object from the memory location is known as a garbage collection."
   ]
  },
  {
   "cell_type": "code",
   "execution_count": 10,
   "metadata": {},
   "outputs": [
    {
     "data": {
      "text/plain": [
       "30"
      ]
     },
     "execution_count": 10,
     "metadata": {},
     "output_type": "execute_result"
    }
   ],
   "source": [
    "#Example of Automatic/implicit Garbage Collection\n",
    "a = 10\n",
    "a = 20\n",
    "a = 30\n",
    "a  #gc actomatically removing unused,unreferenced object."
   ]
  },
  {
   "cell_type": "code",
   "execution_count": 3,
   "metadata": {},
   "outputs": [
    {
     "name": "stdout",
     "output_type": "stream",
     "text": [
      "['DEBUG_COLLECTABLE', 'DEBUG_LEAK', 'DEBUG_SAVEALL', 'DEBUG_STATS', 'DEBUG_UNCOLLECTABLE', '__doc__', '__loader__', '__name__', '__package__', '__spec__', 'callbacks', 'collect', 'disable', 'enable', 'freeze', 'garbage', 'get_count', 'get_debug', 'get_freeze_count', 'get_objects', 'get_referents', 'get_referrers', 'get_stats', 'get_threshold', 'is_finalized', 'is_tracked', 'isenabled', 'set_debug', 'set_threshold', 'unfreeze']\n"
     ]
    }
   ],
   "source": [
    "import gc\n",
    "print(dir(gc))"
   ]
  },
  {
   "cell_type": "code",
   "execution_count": 4,
   "metadata": {},
   "outputs": [
    {
     "data": {
      "text/plain": [
       "True"
      ]
     },
     "execution_count": 4,
     "metadata": {},
     "output_type": "execute_result"
    }
   ],
   "source": [
    "gc.isenabled()"
   ]
  },
  {
   "cell_type": "code",
   "execution_count": 5,
   "metadata": {},
   "outputs": [],
   "source": [
    "gc.disable()"
   ]
  },
  {
   "cell_type": "code",
   "execution_count": 6,
   "metadata": {},
   "outputs": [
    {
     "data": {
      "text/plain": [
       "False"
      ]
     },
     "execution_count": 6,
     "metadata": {},
     "output_type": "execute_result"
    }
   ],
   "source": [
    "#Now\n",
    "gc.isenabled()"
   ]
  },
  {
   "cell_type": "code",
   "execution_count": 7,
   "metadata": {},
   "outputs": [],
   "source": [
    "gc.enable()"
   ]
  },
  {
   "cell_type": "markdown",
   "metadata": {},
   "source": [
    "#### There are two types of garbage collection supported by python they are\n",
    "1.Automatic Garbage Collection<br>\n",
    "2.Explicit Garbage Collection"
   ]
  },
  {
   "cell_type": "code",
   "execution_count": 8,
   "metadata": {},
   "outputs": [
    {
     "data": {
      "text/plain": [
       "20"
      ]
     },
     "execution_count": 8,
     "metadata": {},
     "output_type": "execute_result"
    }
   ],
   "source": [
    "#Example of Explicit Garbage Collection\n",
    "a = 10\n",
    "del a #Explicit Garbage Collection\n",
    "a = 20\n",
    "a"
   ]
  },
  {
   "cell_type": "markdown",
   "metadata": {},
   "source": [
    "A. Automatic Garbage Collection\n",
    "1. After starting execution of program periodically garbage collector program runs internally\n",
    "2. Whenever any object is going to be removed from memory location the distructor of that class is going to be executed.\n",
    "3. In distructor we write the resource deallocation statement.\n",
    "\n",
    "B. Explicit Garbage Collection<br>\n",
    "The concept of executing the garbage collection program explicitly whenever we required is known as explicit garbage collection.\n",
    "-By using 'del' keyword we can run garbage collector explicitly.\n",
    "\n",
    "Destructors:\n",
    "Destructor is a special method and the name should be del \t\n",
    "Just before destroying an object Garbage Collector always calls destructor to perform clean up activities \n",
    "Once destructor execution completed then Garbage Collector automatically destroys that object.\n",
    "\n",
    "Note: \n",
    "The job of destructor is not to destroy object, it is just to perform clean up activities.\n"
   ]
  },
  {
   "cell_type": "code",
   "execution_count": 16,
   "metadata": {},
   "outputs": [
    {
     "name": "stdout",
     "output_type": "stream",
     "text": [
      "Hello Constructor\n",
      "Don't call me\n",
      "Hey I am Walking\n",
      "Don't call me\n"
     ]
    }
   ],
   "source": [
    "class Hello():\n",
    "    def __init__(self):\n",
    "        print('Hello Constructor')\n",
    "    def Walk(self):\n",
    "        print('Hey I am Walking')\n",
    "    def __del__(self):\n",
    "        print(\"Don't call me\")\n",
    "        \n",
    "hh = Hello()\n",
    "hh.Walk()\n",
    "del hh"
   ]
  },
  {
   "cell_type": "markdown",
   "metadata": {},
   "source": [
    "#### Inner Classes or Nested Classes:\n",
    "We can declare a class inside another class, such type of classes are called inner classes. Without existing one type of object, if there is no chance of existing another type of object,then we should go for inner classes."
   ]
  },
  {
   "cell_type": "code",
   "execution_count": 20,
   "metadata": {},
   "outputs": [
    {
     "name": "stdout",
     "output_type": "stream",
     "text": [
      "Hey outer class\n",
      "Hey Inner class\n",
      "Inner Method\n"
     ]
    }
   ],
   "source": [
    "class outerclass():\n",
    "    def __init__(self):\n",
    "        print(\"Hey outer class\")\n",
    "    class innerclass():\n",
    "        def __init__(self):\n",
    "            print(\"Hey Inner class\")\n",
    "        def innermethod(self):\n",
    "            print('Inner Method')\n",
    "            \n",
    "oo = outerclass()\n",
    "ii = oo.innerclass()\n",
    "ii.innermethod()"
   ]
  },
  {
   "cell_type": "markdown",
   "metadata": {},
   "source": [
    "#### Class Method in PYTHON:\n",
    "It returns a class method for the given function. It is a method that is bound to a class rather than its object. It doesn't require creation of a class instance.  We can declare class method explicitly by using @classmethod decorator. For class method we should provide 'cls' variable at the time of declaration. A class method receives the class as implicit first argument."
   ]
  },
  {
   "cell_type": "code",
   "execution_count": 22,
   "metadata": {},
   "outputs": [
    {
     "name": "stdout",
     "output_type": "stream",
     "text": [
      "Axis has 100000 customers\n"
     ]
    }
   ],
   "source": [
    "class insure():\n",
    "    cust = 100000\n",
    "    @classmethod\n",
    "    def services(cls,name):\n",
    "        print(f'{name} has {cls.cust} customers')\n",
    "        \n",
    "insure.services('Axis') "
   ]
  },
  {
   "cell_type": "markdown",
   "metadata": {},
   "source": [
    "#### Static Method in PYTHON:\n",
    "1. Simple functions with no 'self' argument\n",
    "2. Nested inside a class\n",
    "3. These methods are general utility methods. \n",
    "4. Inside these methods we won't use any instance or class variables. \n",
    "5. We can declare static method explicitly by using @staticmethod decorator.  \n",
    "6. We can access static methods by using classname or object reference"
   ]
  },
  {
   "cell_type": "code",
   "execution_count": 23,
   "metadata": {},
   "outputs": [
    {
     "name": "stdout",
     "output_type": "stream",
     "text": [
      "Welcome to static method\n",
      "You can call with class name\n",
      "with instance\n",
      "passed argument is:  Hello\n",
      "Welcome to static method\n",
      "You can call with class name\n",
      "with instance\n",
      "passed argument is:  GoodBye\n"
     ]
    }
   ],
   "source": [
    "class Banker():\n",
    "    @staticmethod\n",
    "    def mymethod(Arg):\n",
    "        print('Welcome to static method')\n",
    "        print('You can call with class name')\n",
    "        print('with instance')\n",
    "        print('passed argument is: ', Arg)\n",
    "bb=Banker()\n",
    "bb.mymethod('Hello')\n",
    "Banker.mymethod('GoodBye')"
   ]
  },
  {
   "cell_type": "code",
   "execution_count": 24,
   "metadata": {},
   "outputs": [
    {
     "name": "stdout",
     "output_type": "stream",
     "text": [
      "Addition is:  3\n",
      "Subtraction is:  -1\n",
      "Division is:  0.5\n",
      "Floor Division is:  0\n",
      "Production is:  2\n"
     ]
    }
   ],
   "source": [
    "class MathComputes():\n",
    "    @staticmethod\n",
    "    def Sum(a,b):\n",
    "        print(\"Addition is: \",a+b)\n",
    "    @staticmethod\n",
    "    def Diff(a,b):\n",
    "        print(\"Subtraction is: \",a-b)\n",
    "    @staticmethod\n",
    "    def Multi(a,b):\n",
    "        print(\"Production is: \",a*b)\n",
    "    @staticmethod\n",
    "    def Div(a,b):\n",
    "        print(\"Division is: \",a/b)\n",
    "    @staticmethod\n",
    "    def Fdiv(a,b):\n",
    "        print(\"Floor Division is: \",a//b)\n",
    "#Static resources we are calling with class name\n",
    "MathComputes.Sum(1,2)\n",
    "MathComputes.Diff(1,2)\n",
    "MathComputes.Div(1,2)\n",
    "MathComputes.Fdiv(1,2)\n",
    "MathComputes.Multi(1,2)"
   ]
  },
  {
   "cell_type": "code",
   "execution_count": 25,
   "metadata": {},
   "outputs": [
    {
     "name": "stdout",
     "output_type": "stream",
     "text": [
      "Addition is:  3\n",
      "Subtraction is:  -1\n",
      "Division is:  0.5\n",
      "Floor Division is:  0\n",
      "Production is:  2\n"
     ]
    }
   ],
   "source": [
    "#access static methods by using object reference\n",
    "mm = MathComputes()\n",
    "mm.Sum(1,2)\n",
    "mm.Diff(1,2)\n",
    "mm.Div(1,2)\n",
    "mm.Fdiv(1,2)\n",
    "mm.Multi(1,2)"
   ]
  },
  {
   "cell_type": "markdown",
   "metadata": {},
   "source": [
    "#### Python Metaprogramming\n",
    "It is the concept of building functions and classes whose primary target is to manipulate code by modifying, wrapping or generating existing code. The major features of meta-programming are:\n",
    "1. Metaclasses\n",
    "2. Decorators\n",
    "3. Class-decorators"
   ]
  },
  {
   "cell_type": "markdown",
   "metadata": {},
   "source": [
    "#### MetaClasses\n",
    "In Python everything have some type associated with it. You can get type of anything using type() function.\n",
    "Metaclass create Classes and Classes creates objects."
   ]
  },
  {
   "cell_type": "code",
   "execution_count": 27,
   "metadata": {},
   "outputs": [
    {
     "name": "stdout",
     "output_type": "stream",
     "text": [
      "<class 'float'>\n"
     ]
    }
   ],
   "source": [
    "#meta class example\n",
    "a = 10.0\n",
    "print(type(a))"
   ]
  },
  {
   "cell_type": "code",
   "execution_count": 28,
   "metadata": {},
   "outputs": [
    {
     "name": "stdout",
     "output_type": "stream",
     "text": [
      "Type of lst is: <class 'list'>\n"
     ]
    }
   ],
   "source": [
    "lst = [1, 2, 4] \n",
    "print(\"Type of lst is:\", type(lst))"
   ]
  },
  {
   "cell_type": "code",
   "execution_count": 30,
   "metadata": {},
   "outputs": [
    {
     "name": "stdout",
     "output_type": "stream",
     "text": [
      "Type of stu_obj is: <class '__main__.Student'>\n"
     ]
    }
   ],
   "source": [
    "class Student(): \n",
    "    pass\n",
    "Stu_Obj = Student() \n",
    "print(\"Type of stu_obj is:\", type(Stu_Obj))"
   ]
  },
  {
   "cell_type": "markdown",
   "metadata": {},
   "source": [
    "#### Differences:\n",
    "\n",
    "A class method takes cls as first argument,\n",
    "A static method need no specific parameters\n",
    "\n",
    "A class method can call with class name, \n",
    "A static method can call with class & Instance\n",
    "\n",
    "A class method needs @classmethod decorator,\n",
    "A static method needs @staticmethod decorator"
   ]
  },
  {
   "cell_type": "code",
   "execution_count": 31,
   "metadata": {},
   "outputs": [
    {
     "name": "stdout",
     "output_type": "stream",
     "text": [
      "All Animals are Eating...!!\n",
      "Dog is Eating\n",
      "Dog is Barking\n",
      "Cat is also Eating\n",
      "Cat is mewwwwwwwwwwwwwww..!\n",
      "Lion is Eating...!!\n",
      "Lion is Roraring........\n"
     ]
    }
   ],
   "source": [
    "class Animal():\n",
    "    def Eat(self):\n",
    "        print(\"All Animals are Eating...!!\")\n",
    "class Dog():\n",
    "    def Eat(self):\n",
    "        print(\"Dog is Eating\")\n",
    "    def Sound(self):\n",
    "        print(\"Dog is Barking\")\n",
    "class Cat():\n",
    "    def Eat(self):\n",
    "        print(\"Cat is also Eating\")\n",
    "    def Sound(self):\n",
    "        print(\"Cat is mewwwwwwwwwwwwwww..!\")\n",
    "class Lion():\n",
    "    def Eat(self):\n",
    "        print(\"Lion is Eating...!!\")\n",
    "    def Sound(self):\n",
    "        print(\"Lion is Roraring........\")\n",
    "\n",
    "AA=Animal()\n",
    "AA.Eat()\n",
    "DD=Dog()\n",
    "DD.Eat()\n",
    "DD.Sound()\n",
    "CC=Cat()\n",
    "CC.Eat()\n",
    "CC.Sound()\n",
    "LL=Lion()\n",
    "LL.Eat()\n",
    "LL.Sound()"
   ]
  },
  {
   "cell_type": "code",
   "execution_count": null,
   "metadata": {},
   "outputs": [],
   "source": [
    "This code can more perfect by using Inheritance."
   ]
  }
 ],
 "metadata": {
  "kernelspec": {
   "display_name": "Python 3",
   "language": "python",
   "name": "python3"
  },
  "language_info": {
   "codemirror_mode": {
    "name": "ipython",
    "version": 3
   },
   "file_extension": ".py",
   "mimetype": "text/x-python",
   "name": "python",
   "nbconvert_exporter": "python",
   "pygments_lexer": "ipython3",
   "version": "3.9.1"
  }
 },
 "nbformat": 4,
 "nbformat_minor": 4
}
