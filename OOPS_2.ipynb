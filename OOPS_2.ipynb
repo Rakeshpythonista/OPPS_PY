{
 "cells": [
  {
   "cell_type": "markdown",
   "metadata": {},
   "source": [
    "#### Differences between Methods and Constructors:\n",
    "Method\n",
    "1. Method can be any name\n",
    "2. It will be executed if we call that method\n",
    "3. For an object, method can be called any number of times.\n",
    "4. Method contains business logic\n",
    "\n",
    "Constructor\n",
    "1. Name should be always __init__\n",
    "2. It will be executed automatically at the time of object creation.\n",
    "3. For  object, Constructor will be executed one-time\n",
    "4. Constructor  Inside we have to declare, initialize instance variables"
   ]
  },
  {
   "cell_type": "code",
   "execution_count": 1,
   "metadata": {},
   "outputs": [
    {
     "ename": "TypeError",
     "evalue": "__init__() missing 1 required positional argument: 'x'",
     "output_type": "error",
     "traceback": [
      "\u001b[1;31m---------------------------------------------------------------------------\u001b[0m",
      "\u001b[1;31mTypeError\u001b[0m                                 Traceback (most recent call last)",
      "\u001b[1;32m<ipython-input-1-a0380c5f625e>\u001b[0m in \u001b[0;36m<module>\u001b[1;34m\u001b[0m\n\u001b[0;32m      5\u001b[0m         \u001b[0mprint\u001b[0m\u001b[1;33m(\u001b[0m\u001b[1;34m'One Arg Passed'\u001b[0m\u001b[1;33m)\u001b[0m\u001b[1;33m\u001b[0m\u001b[1;33m\u001b[0m\u001b[0m\n\u001b[0;32m      6\u001b[0m \u001b[1;33m\u001b[0m\u001b[0m\n\u001b[1;32m----> 7\u001b[1;33m \u001b[0mhh\u001b[0m \u001b[1;33m=\u001b[0m \u001b[0mHello\u001b[0m\u001b[1;33m(\u001b[0m\u001b[1;33m)\u001b[0m\u001b[1;33m\u001b[0m\u001b[1;33m\u001b[0m\u001b[0m\n\u001b[0m",
      "\u001b[1;31mTypeError\u001b[0m: __init__() missing 1 required positional argument: 'x'"
     ]
    }
   ],
   "source": [
    "class Hello():\n",
    "    def __init__(self):\n",
    "        print('No Arg Passed')\n",
    "    def __init__(self,x):\n",
    "        print('One Arg Passed')\n",
    "        \n",
    "hh = Hello()"
   ]
  },
  {
   "cell_type": "code",
   "execution_count": 2,
   "metadata": {},
   "outputs": [
    {
     "name": "stdout",
     "output_type": "stream",
     "text": [
      "One Arg Passed\n"
     ]
    }
   ],
   "source": [
    "class Hello():\n",
    "    def __init__(self):\n",
    "        print('No Arg Passed')\n",
    "    def __init__(self,x):\n",
    "        print('One Arg Passed')\n",
    "        \n",
    "hh = Hello(1)"
   ]
  },
  {
   "cell_type": "code",
   "execution_count": 3,
   "metadata": {},
   "outputs": [
    {
     "ename": "TypeError",
     "evalue": "__init__() takes 1 positional argument but 3 were given",
     "output_type": "error",
     "traceback": [
      "\u001b[1;31m---------------------------------------------------------------------------\u001b[0m",
      "\u001b[1;31mTypeError\u001b[0m                                 Traceback (most recent call last)",
      "\u001b[1;32m<ipython-input-3-25ec726ab4c8>\u001b[0m in \u001b[0;36m<module>\u001b[1;34m\u001b[0m\n\u001b[0;32m      7\u001b[0m         \u001b[0mprint\u001b[0m\u001b[1;33m(\u001b[0m\u001b[1;34m'One Arg Passed'\u001b[0m\u001b[1;33m)\u001b[0m\u001b[1;33m\u001b[0m\u001b[1;33m\u001b[0m\u001b[0m\n\u001b[0;32m      8\u001b[0m \u001b[1;33m\u001b[0m\u001b[0m\n\u001b[1;32m----> 9\u001b[1;33m \u001b[0mhh\u001b[0m \u001b[1;33m=\u001b[0m \u001b[0mHello\u001b[0m\u001b[1;33m(\u001b[0m\u001b[1;36m1\u001b[0m\u001b[1;33m,\u001b[0m\u001b[1;36m1\u001b[0m\u001b[1;33m)\u001b[0m\u001b[1;33m\u001b[0m\u001b[1;33m\u001b[0m\u001b[0m\n\u001b[0m",
      "\u001b[1;31mTypeError\u001b[0m: __init__() takes 1 positional argument but 3 were given"
     ]
    }
   ],
   "source": [
    "class Hello():\n",
    "    def __init__(self,x,y):\n",
    "        print('No Arg Passed')\n",
    "    def __init__(self,x):\n",
    "        print('One Arg Passed')\n",
    "    def __init__(self):\n",
    "        print('One Arg Passed')\n",
    "        \n",
    "hh = Hello(1,1)"
   ]
  },
  {
   "cell_type": "markdown",
   "metadata": {},
   "source": [
    "### In Python class we can represent data by using the following variables.\n",
    "    1.Instance Variables (Object Level Variables)\t\n",
    "    2.Static Variables (Class Level Variables)\n",
    "    3.Local variables (Method Level Variables)\n",
    "\n",
    "Instance Variables:\n",
    "If the value of a variable is varied from object to object, for every object a separate copy of instance variables will be created.\n",
    "\n",
    "Where we can declare Instance Variables:\n",
    "   1. Inside Constructor by using self variable\n",
    "   2. Inside Instance Method by using self variable\n",
    "   3. Outside of the class by using object reference variable"
   ]
  },
  {
   "cell_type": "code",
   "execution_count": 20,
   "metadata": {},
   "outputs": [
    {
     "name": "stdout",
     "output_type": "stream",
     "text": [
      "{'eid': 1, 'ename': 'Rakesh', 'esal': '$98000'}\n"
     ]
    }
   ],
   "source": [
    "class Emp():\n",
    "    def __init__(self):\n",
    "        \"\"\"Instance variable list\"\"\"\n",
    "        self.eid = 1\n",
    "        self.ename = \"Rakesh\"\n",
    "        self.esal = \"$98000\"\n",
    "        \n",
    "eDetails = Emp()\n",
    "print(eDetails.__dict__)"
   ]
  },
  {
   "cell_type": "code",
   "execution_count": 24,
   "metadata": {},
   "outputs": [
    {
     "name": "stdout",
     "output_type": "stream",
     "text": [
      "{'x': 100, 'y': 200, 'z': 300}\n"
     ]
    }
   ],
   "source": [
    "class MyClass():\n",
    "    #instance variable\n",
    "    def __init__(self):\n",
    "        self.x = 100\n",
    "    #instance variable\n",
    "    def MyMethod(self):\n",
    "        self.y = 200\n",
    "MM = MyClass()\n",
    "MM.MyMethod()\n",
    "#Outside of the class by using object reference variable\n",
    "MM.z=300\n",
    "print(MM.__dict__)"
   ]
  },
  {
   "cell_type": "code",
   "execution_count": 27,
   "metadata": {},
   "outputs": [
    {
     "name": "stdout",
     "output_type": "stream",
     "text": [
      "{'y': 200, 'z': 300}\n"
     ]
    }
   ],
   "source": [
    "class MyClass():\n",
    "    #instance variable\n",
    "    def __init__(self):\n",
    "        self.x = 100\n",
    "    #instance variable\n",
    "    def MyMethod(self):\n",
    "        self.x = 400\n",
    "        self.y = 200\n",
    "        del self.x\n",
    "MM = MyClass()\n",
    "MM.MyMethod()\n",
    "#Outside of the class by using object reference variable\n",
    "MM.z=300\n",
    "print(MM.__dict__)"
   ]
  },
  {
   "cell_type": "markdown",
   "metadata": {},
   "source": [
    "#### Static Variables:\n",
    "The value of a variable is constant for every object\n",
    "Class having static variable, shared by all objects of that class.\n",
    "Access static variables by class name or object reference, recommended to use class name.\n",
    "\n",
    "Instance Variable vs Static Variable:\n",
    "\n",
    "In the case of instance variables for every object a seperate copy created\n",
    "in the case of static variables for total class only one copy  created"
   ]
  },
  {
   "cell_type": "code",
   "execution_count": 32,
   "metadata": {},
   "outputs": [
    {
     "name": "stdout",
     "output_type": "stream",
     "text": [
      "444 222\n",
      "444 2\n"
     ]
    }
   ],
   "source": [
    "class MyClass():\n",
    "    #static variable\n",
    "    x = 1\n",
    "    def __init__(self):\n",
    "        #instance variable\n",
    "        self.y = 2\n",
    "\"\"\"by object we can acess instance variable but by class name we can acess class variable\"\"\"\n",
    "MM1 = MyClass()\n",
    "MM1.y = 222\n",
    "MyClass.x = 444\n",
    "MM2 = MyClass()\n",
    "print(MM1.x,MM1.y)\n",
    "print(MM2.x,MM2.y)"
   ]
  },
  {
   "cell_type": "markdown",
   "metadata": {},
   "source": [
    "#### Various Places to declare Static Variables:\n",
    "1. We can declare within the class directly\n",
    "2. Inside constructor by using class name\n",
    "3. Inside instance method by using class name\n",
    "4. Inside classmethod by using either class name or cls variable\n",
    "5. Inside static method by using class name\n",
    "6. Outside of class using obj ref. or class name"
   ]
  },
  {
   "cell_type": "code",
   "execution_count": 161,
   "metadata": {},
   "outputs": [
    {
     "name": "stdout",
     "output_type": "stream",
     "text": [
      "{'__module__': '__main__', 'p': 1, '__init__': <function MyClass.__init__ at 0x000001D4E1E07790>, 'MyMethod': <function MyClass.MyMethod at 0x000001D4E1E07160>, 'ClassMethod': <classmethod object at 0x000001D4E1C361F0>, 'statMethod': <staticmethod object at 0x000001D4E1DE9AF0>, '__dict__': <attribute '__dict__' of 'MyClass' objects>, '__weakref__': <attribute '__weakref__' of 'MyClass' objects>, '__doc__': None}\n"
     ]
    }
   ],
   "source": [
    "class MyClass():\n",
    "    #we can declare within the class directly\n",
    "    p = 1\n",
    "    def __init__(self):\n",
    "        #Inside constructor by using class name\n",
    "        MyClass.q = 2\n",
    "        \n",
    "    def MyMethod(self):\n",
    "        #Inside instance method by using class name\n",
    "        MyClass.r=3\n",
    "        \n",
    "    @classmethod\n",
    "    def ClassMethod(cls): #Decorator\n",
    "        #Inside classmethod by using either class name or cls variable\n",
    "        MyClass.s=4\n",
    "        cls.t = 5\n",
    "    \n",
    "    @staticmethod\n",
    "    def statMethod(): #Decorator\n",
    "        #Inside static method by using class name\n",
    "        MyClass.u=4\n",
    "        \n",
    "print(MyClass.__dict__) #class level only p =1"
   ]
  },
  {
   "cell_type": "code",
   "execution_count": 163,
   "metadata": {},
   "outputs": [
    {
     "name": "stdout",
     "output_type": "stream",
     "text": [
      "{'__module__': '__main__', 'p': 1, '__init__': <function MyClass.__init__ at 0x000001D4E1E07C10>, 'MyMethod': <function MyClass.MyMethod at 0x000001D4E1E071F0>, 'ClassMethod': <classmethod object at 0x000001D4E1E0BDF0>, 'statMethod': <staticmethod object at 0x000001D4E1E0BFA0>, '__dict__': <attribute '__dict__' of 'MyClass' objects>, '__weakref__': <attribute '__weakref__' of 'MyClass' objects>, '__doc__': None, 'q': 2}\n"
     ]
    }
   ],
   "source": [
    "class MyClass():\n",
    "    #we can declare within the class directly\n",
    "    p = 1\n",
    "    def __init__(self):\n",
    "        #Inside constructor by using class name\n",
    "        MyClass.q = 2\n",
    "        \n",
    "    def MyMethod(self):\n",
    "        #Inside instance method by using class name\n",
    "        MyClass.r=3\n",
    "        \n",
    "    @classmethod\n",
    "    def ClassMethod(cls): #Decorator\n",
    "        #Inside classmethod by using either class name or cls variable\n",
    "        MyClass.s=4\n",
    "        cls.t = 5\n",
    "    \n",
    "    @staticmethod\n",
    "    def statMethod(): #Decorator\n",
    "        #Inside static method by using class name\n",
    "        MyClass.u=4\n",
    "\n",
    "MM = MyClass()\n",
    "print(MyClass.__dict__) #Now p =1, q = 2"
   ]
  },
  {
   "cell_type": "code",
   "execution_count": 162,
   "metadata": {},
   "outputs": [
    {
     "name": "stdout",
     "output_type": "stream",
     "text": [
      "{'__module__': '__main__', 'p': 1, '__init__': <function MyClass.__init__ at 0x000001D4E1E073A0>, 'MyMethod': <function MyClass.MyMethod at 0x000001D4E1E079D0>, 'ClassMethod': <classmethod object at 0x000001D4E1E0B1F0>, 'statMethod': <staticmethod object at 0x000001D4E1E0B490>, '__dict__': <attribute '__dict__' of 'MyClass' objects>, '__weakref__': <attribute '__weakref__' of 'MyClass' objects>, '__doc__': None, 'q': 2, 'r': 3}\n"
     ]
    }
   ],
   "source": [
    "class MyClass():\n",
    "    #we can declare within the class directly\n",
    "    p = 1\n",
    "    def __init__(self):\n",
    "        #Inside constructor by using class name\n",
    "        MyClass.q = 2\n",
    "        \n",
    "    def MyMethod(self):\n",
    "        #Inside instance method by using class name\n",
    "        MyClass.r=3\n",
    "        \n",
    "    @classmethod\n",
    "    def ClassMethod(cls): #Decorator\n",
    "        #Inside classmethod by using either class name or cls variable\n",
    "        MyClass.s=4\n",
    "        cls.t = 5\n",
    "    \n",
    "    @staticmethod\n",
    "    def statMethod(): #Decorator\n",
    "        #Inside static method by using class name\n",
    "        MyClass.u=4\n",
    "\n",
    "MM = MyClass()\n",
    "MM.MyMethod()\n",
    "print(MyClass.__dict__) #Now p =1, q = 2, r=3"
   ]
  },
  {
   "cell_type": "code",
   "execution_count": 164,
   "metadata": {},
   "outputs": [
    {
     "name": "stdout",
     "output_type": "stream",
     "text": [
      "{'__module__': '__main__', 'p': 1, '__init__': <function MyClass.__init__ at 0x000001D4E1E07160>, 'MyMethod': <function MyClass.MyMethod at 0x000001D4E1E07790>, 'ClassMethod': <classmethod object at 0x000001D4E1C13B20>, 'statMethod': <staticmethod object at 0x000001D4E1C133A0>, '__dict__': <attribute '__dict__' of 'MyClass' objects>, '__weakref__': <attribute '__weakref__' of 'MyClass' objects>, '__doc__': None, 'q': 2, 'r': 3, 's': 4, 't': 5}\n"
     ]
    }
   ],
   "source": [
    "class MyClass():\n",
    "    #we can declare within the class directly\n",
    "    p = 1\n",
    "    def __init__(self):\n",
    "        #Inside constructor by using class name\n",
    "        MyClass.q = 2\n",
    "        \n",
    "    def MyMethod(self):\n",
    "        #Inside instance method by using class name\n",
    "        MyClass.r=3\n",
    "        \n",
    "    @classmethod\n",
    "    def ClassMethod(cls): #Decorator\n",
    "        #Inside classmethod by using either class name or cls variable\n",
    "        MyClass.s=4\n",
    "        cls.t = 5\n",
    "    \n",
    "    @staticmethod\n",
    "    def statMethod(): #Decorator\n",
    "        #Inside static method by using class name\n",
    "        MyClass.u=4\n",
    "\n",
    "MM = MyClass()\n",
    "MM.MyMethod()\n",
    "MM.ClassMethod()\n",
    "print(MyClass.__dict__) ##Now p =1, q = 2, r=3, s= 4, t= 5"
   ]
  },
  {
   "cell_type": "code",
   "execution_count": 165,
   "metadata": {},
   "outputs": [
    {
     "name": "stdout",
     "output_type": "stream",
     "text": [
      "{'__module__': '__main__', 'p': 1, '__init__': <function MyClass.__init__ at 0x000001D4E1CF0E50>, 'MyMethod': <function MyClass.MyMethod at 0x000001D4E1CF0CA0>, 'ClassMethod': <classmethod object at 0x000001D4E1E2F520>, 'statMethod': <staticmethod object at 0x000001D4E1E2F0A0>, '__dict__': <attribute '__dict__' of 'MyClass' objects>, '__weakref__': <attribute '__weakref__' of 'MyClass' objects>, '__doc__': None, 'q': 2, 'r': 3, 's': 4, 't': 5, 'u': 4}\n"
     ]
    }
   ],
   "source": [
    "class MyClass():\n",
    "    #we can declare within the class directly\n",
    "    p = 1\n",
    "    def __init__(self):\n",
    "        #Inside constructor by using class name\n",
    "        MyClass.q = 2\n",
    "        \n",
    "    def MyMethod(self):\n",
    "        #Inside instance method by using class name\n",
    "        MyClass.r=3\n",
    "        \n",
    "    @classmethod\n",
    "    def ClassMethod(cls): #Decorator\n",
    "        #Inside classmethod by using either class name or cls variable\n",
    "        MyClass.s=4\n",
    "        cls.t = 5\n",
    "    \n",
    "    @staticmethod\n",
    "    def statMethod(): #Decorator\n",
    "        #Inside static method by using class name\n",
    "        MyClass.u=4\n",
    "\n",
    "MM = MyClass()\n",
    "MM.MyMethod()\n",
    "MM.ClassMethod()\n",
    "MM.statMethod()\n",
    "print(MyClass.__dict__) #Now p =1, q = 2, r=3, s= 4, t= 5, u= 4"
   ]
  },
  {
   "cell_type": "code",
   "execution_count": 169,
   "metadata": {},
   "outputs": [
    {
     "name": "stdout",
     "output_type": "stream",
     "text": [
      "{'__module__': '__main__', 'p': 1, '__init__': <function MyClass.__init__ at 0x000001D4E1E15820>, 'MyMethod': <function MyClass.MyMethod at 0x000001D4E1E15790>, 'ClassMethod': <classmethod object at 0x000001D4E1E2FC40>, 'statMethod': <staticmethod object at 0x000001D4E1E2FBB0>, '__dict__': <attribute '__dict__' of 'MyClass' objects>, '__weakref__': <attribute '__weakref__' of 'MyClass' objects>, '__doc__': None, 'q': 2, 'r': 3, 's': 4, 't': 5, 'u': 4, 'v': 7}\n"
     ]
    }
   ],
   "source": [
    "class MyClass():\n",
    "    #we can declare within the class directly\n",
    "    p = 1\n",
    "    def __init__(self):\n",
    "        #Inside constructor by using class name\n",
    "        MyClass.q = 2\n",
    "        \n",
    "    def MyMethod(self):\n",
    "        #Inside instance method by using class name\n",
    "        MyClass.r=3\n",
    "        \n",
    "    @classmethod\n",
    "    def ClassMethod(cls): #Decorator\n",
    "        #Inside classmethod by using either class name or cls variable\n",
    "        MyClass.s=4\n",
    "        cls.t = 5\n",
    "    \n",
    "    @staticmethod\n",
    "    def statMethod(): #Decorator\n",
    "        #Inside static method by using class name\n",
    "        MyClass.u=4\n",
    "\n",
    "MM = MyClass()\n",
    "MM.MyMethod()\n",
    "MM.ClassMethod()\n",
    "MM.statMethod()\n",
    "#Outside of class using obj ref. or class name\n",
    "MyClass.v = 7\n",
    "print(MyClass.__dict__) #Now p =1, q = 2, r=3, s= 4, t= 5, u= 4, v=7"
   ]
  },
  {
   "cell_type": "markdown",
   "metadata": {},
   "source": [
    "#### Local variables/Temporary variables (Method Level Variables):\n",
    "1. If we can declare variables inside a method directly.\n",
    "2. It will be created at the time of method execution\n",
    "3. They destroyed once method execution completes.\n",
    "4. They cannot be accessed from outside of method."
   ]
  },
  {
   "cell_type": "code",
   "execution_count": 20,
   "metadata": {},
   "outputs": [
    {
     "name": "stdout",
     "output_type": "stream",
     "text": [
      "1\n",
      "2\n"
     ]
    }
   ],
   "source": [
    "class MyClass():\n",
    "    def FirstMethod(self):\n",
    "        #Local Variable\n",
    "        x = 1\n",
    "        print(x)\n",
    "    def SecondMethod(self):\n",
    "        #Local Variable\n",
    "        y=2\n",
    "        print(y)\n",
    "MM = MyClass()\n",
    "MM.FirstMethod()\n",
    "MM.SecondMethod()"
   ]
  },
  {
   "attachments": {
    "23324.JPG": {
     "image/jpeg": "[encoded data removed]"
    }
   },
   "cell_type": "markdown",
   "metadata": {},
   "source": [
    "#### Attributes\n",
    "An attribute is a specification that defines a  property of an object, element,  or file.<br> It may also refer to or set the specific value for a given instance of such.\n",
    "![23324.JPG](attachment:23324.JPG)"
   ]
  },
  {
   "cell_type": "markdown",
   "metadata": {},
   "source": [
    "#### A. Built-in class attributes"
   ]
  },
  {
   "cell_type": "code",
   "execution_count": 22,
   "metadata": {},
   "outputs": [
    {
     "name": "stdout",
     "output_type": "stream",
     "text": [
      "{'__module__': '__main__', '__dict__': <attribute '__dict__' of 'MyBuiltinAttrs' objects>, '__weakref__': <attribute '__weakref__' of 'MyBuiltinAttrs' objects>, '__doc__': None}\n"
     ]
    }
   ],
   "source": [
    "class MyBuiltinAttrs():\n",
    "    pass\n",
    "print(MyBuiltinAttrs.__dict__)"
   ]
  },
  {
   "cell_type": "code",
   "execution_count": 24,
   "metadata": {},
   "outputs": [
    {
     "name": "stdout",
     "output_type": "stream",
     "text": [
      "MyBuiltinAttrs\n"
     ]
    }
   ],
   "source": [
    "print(MyBuiltinAttrs.__name__)"
   ]
  },
  {
   "cell_type": "code",
   "execution_count": 25,
   "metadata": {},
   "outputs": [
    {
     "name": "stdout",
     "output_type": "stream",
     "text": [
      "(<class 'object'>,)\n"
     ]
    }
   ],
   "source": [
    "print(MyBuiltinAttrs.__bases__)"
   ]
  },
  {
   "cell_type": "code",
   "execution_count": 26,
   "metadata": {},
   "outputs": [
    {
     "name": "stdout",
     "output_type": "stream",
     "text": [
      "None\n"
     ]
    }
   ],
   "source": [
    "print(MyBuiltinAttrs.__doc__)"
   ]
  },
  {
   "cell_type": "code",
   "execution_count": 27,
   "metadata": {},
   "outputs": [
    {
     "name": "stdout",
     "output_type": "stream",
     "text": [
      "__main__\n"
     ]
    }
   ],
   "source": [
    "print(MyBuiltinAttrs.__module__)"
   ]
  },
  {
   "cell_type": "markdown",
   "metadata": {},
   "source": [
    "#### B. Attribute defined by Users\n",
    "1. Attributes are created inside the class definition\n",
    "2. We can dynamically create  new attributes  for existing  instances of a class\n",
    "3. Attributes can  be bound to class names as well"
   ]
  },
  {
   "cell_type": "code",
   "execution_count": 30,
   "metadata": {},
   "outputs": [
    {
     "name": "stdout",
     "output_type": "stream",
     "text": [
      "1\n",
      "1\n"
     ]
    }
   ],
   "source": [
    "class Student():\n",
    "    #User defined Attribute\n",
    "    StdNo = 1\n",
    "#Using class Name\n",
    "print(Student.StdNo)\n",
    "#Creating instance or object\n",
    "MyObj = Student()\n",
    "#Display Using Instance or Object\n",
    "print(MyObj.StdNo)"
   ]
  },
  {
   "cell_type": "markdown",
   "metadata": {},
   "source": [
    "#### Access Modifiers\n",
    "PYTHON supports the following list of Access Modifiers:\n",
    "1. Public:Attributes can be freely used\n",
    "2. Protected: (Restricted) attributes should only be used under certain conditions\n",
    "3. Private:Attributes can only be accessed inside of the class definition "
   ]
  },
  {
   "cell_type": "code",
   "execution_count": null,
   "metadata": {},
   "outputs": [],
   "source": [
    "\"\"\"\n",
    "name   - public    - These attributes can be used freely inside or outside of a class definition\n",
    "_name  - protected - These attributes should not be used outside of the class definition, unless inside of a subclass definition\n",
    "__name - private   - This kind of attributes inaccessible and invisible. \n",
    "\"\"\""
   ]
  },
  {
   "cell_type": "code",
   "execution_count": 5,
   "metadata": {},
   "outputs": [
    {
     "name": "stdout",
     "output_type": "stream",
     "text": [
      "Hey I am Public Attribute\n",
      "Hey I am Protected Attribute\n"
     ]
    },
    {
     "ename": "AttributeError",
     "evalue": "'AccessModifiers' object has no attribute '__z'",
     "output_type": "error",
     "traceback": [
      "\u001b[1;31m---------------------------------------------------------------------------\u001b[0m",
      "\u001b[1;31mAttributeError\u001b[0m                            Traceback (most recent call last)",
      "\u001b[1;32m<ipython-input-5-b8d39c522b41>\u001b[0m in \u001b[0;36m<module>\u001b[1;34m\u001b[0m\n\u001b[0;32m     10\u001b[0m \u001b[0mprint\u001b[0m\u001b[1;33m(\u001b[0m\u001b[0mAA\u001b[0m\u001b[1;33m.\u001b[0m\u001b[0mx\u001b[0m\u001b[1;33m)\u001b[0m\u001b[1;33m\u001b[0m\u001b[1;33m\u001b[0m\u001b[0m\n\u001b[0;32m     11\u001b[0m \u001b[0mprint\u001b[0m\u001b[1;33m(\u001b[0m\u001b[0mAA\u001b[0m\u001b[1;33m.\u001b[0m\u001b[0m_y\u001b[0m\u001b[1;33m)\u001b[0m\u001b[1;33m\u001b[0m\u001b[1;33m\u001b[0m\u001b[0m\n\u001b[1;32m---> 12\u001b[1;33m \u001b[0mprint\u001b[0m\u001b[1;33m(\u001b[0m\u001b[0mAA\u001b[0m\u001b[1;33m.\u001b[0m\u001b[0m__z\u001b[0m\u001b[1;33m)\u001b[0m\u001b[1;33m\u001b[0m\u001b[1;33m\u001b[0m\u001b[0m\n\u001b[0m",
      "\u001b[1;31mAttributeError\u001b[0m: 'AccessModifiers' object has no attribute '__z'"
     ]
    }
   ],
   "source": [
    "class AccessModifiers():\n",
    "    def __init__(self):\n",
    "        self.x = \"Hey I am Public Attribute\"\n",
    "        self._y = \"Hey I am Protected Attribute\"\n",
    "        self.__Z = \"Hey I am Private Attribute\"\n",
    "\n",
    "#Creating Object or Instance\n",
    "AA = AccessModifiers()\n",
    "#Calling the Attribute\n",
    "print(AA.x)\n",
    "print(AA._y)\n",
    "print(AA.__z)"
   ]
  },
  {
   "cell_type": "markdown",
   "metadata": {},
   "source": [
    "<h4>getattr</h4>\n",
    "It  returns the value of the named attribute of an object. If not found, it returns the default value provided to the function.\n",
    "<h4>setattr</h4>\n",
    "It sets the value of given attribute of an object.\n",
    "<h4>hasattr</h4>\n",
    "It returns true if an object has the given named attribute and false if it does not.\n",
    "\n",
    "<h4>delattr</h4>\n",
    "It deletes an attribute from the object (if the object allows it).\n"
   ]
  },
  {
   "cell_type": "code",
   "execution_count": 11,
   "metadata": {},
   "outputs": [
    {
     "name": "stdout",
     "output_type": "stream",
     "text": [
      "1001\n",
      "RKDas\n",
      "Hyderabad\n"
     ]
    }
   ],
   "source": [
    "class Banking():\n",
    "    #User defined Attribute\n",
    "    custid = 1001\n",
    "    custname = \"RKDas\"\n",
    "    \n",
    "bb = Banking()\n",
    "print(getattr(bb,'custid'))\n",
    "print(getattr(bb,'custname'))\n",
    "print(getattr(bb,'Loc','Hyderabad'))"
   ]
  },
  {
   "cell_type": "code",
   "execution_count": 12,
   "metadata": {},
   "outputs": [
    {
     "name": "stdout",
     "output_type": "stream",
     "text": [
      "1001\n"
     ]
    }
   ],
   "source": [
    "print(getattr(bb,'custid',1002)) #This is the demerit. so use setattr"
   ]
  },
  {
   "cell_type": "code",
   "execution_count": 14,
   "metadata": {},
   "outputs": [
    {
     "name": "stdout",
     "output_type": "stream",
     "text": [
      "1002\n"
     ]
    }
   ],
   "source": [
    "setattr(bb,'custid',1002)\n",
    "print(getattr(bb,'custid'))"
   ]
  },
  {
   "cell_type": "code",
   "execution_count": 15,
   "metadata": {},
   "outputs": [
    {
     "data": {
      "text/plain": [
       "True"
      ]
     },
     "execution_count": 15,
     "metadata": {},
     "output_type": "execute_result"
    }
   ],
   "source": [
    "hasattr(bb,'custname')"
   ]
  },
  {
   "cell_type": "code",
   "execution_count": 19,
   "metadata": {},
   "outputs": [
    {
     "data": {
      "text/plain": [
       "False"
      ]
     },
     "execution_count": 19,
     "metadata": {},
     "output_type": "execute_result"
    }
   ],
   "source": [
    "hasattr(bb,'Loc')"
   ]
  },
  {
   "cell_type": "code",
   "execution_count": 18,
   "metadata": {},
   "outputs": [
    {
     "data": {
      "text/plain": [
       "True"
      ]
     },
     "execution_count": 18,
     "metadata": {},
     "output_type": "execute_result"
    }
   ],
   "source": [
    "hasattr(bb,'custid')"
   ]
  },
  {
   "cell_type": "code",
   "execution_count": 20,
   "metadata": {},
   "outputs": [
    {
     "data": {
      "text/plain": [
       "{'custid': 1002}"
      ]
     },
     "execution_count": 20,
     "metadata": {},
     "output_type": "execute_result"
    }
   ],
   "source": [
    "bb.__dict__"
   ]
  },
  {
   "cell_type": "code",
   "execution_count": 21,
   "metadata": {},
   "outputs": [
    {
     "data": {
      "text/plain": [
       "mappingproxy({'__module__': '__main__',\n",
       "              'custid': 1001,\n",
       "              'custname': 'RKDas',\n",
       "              '__dict__': <attribute '__dict__' of 'Banking' objects>,\n",
       "              '__weakref__': <attribute '__weakref__' of 'Banking' objects>,\n",
       "              '__doc__': None})"
      ]
     },
     "execution_count": 21,
     "metadata": {},
     "output_type": "execute_result"
    }
   ],
   "source": [
    "Banking.__dict__"
   ]
  },
  {
   "cell_type": "code",
   "execution_count": 22,
   "metadata": {},
   "outputs": [],
   "source": [
    "delattr(bb,'custid')"
   ]
  },
  {
   "cell_type": "code",
   "execution_count": 27,
   "metadata": {},
   "outputs": [
    {
     "data": {
      "text/plain": [
       "1001"
      ]
     },
     "execution_count": 27,
     "metadata": {},
     "output_type": "execute_result"
    }
   ],
   "source": [
    "getattr(bb,'custid')"
   ]
  },
  {
   "cell_type": "code",
   "execution_count": 28,
   "metadata": {},
   "outputs": [
    {
     "ename": "AttributeError",
     "evalue": "custid",
     "output_type": "error",
     "traceback": [
      "\u001b[1;31m---------------------------------------------------------------------------\u001b[0m",
      "\u001b[1;31mAttributeError\u001b[0m                            Traceback (most recent call last)",
      "\u001b[1;32m<ipython-input-28-ead4df9f3eb7>\u001b[0m in \u001b[0;36m<module>\u001b[1;34m\u001b[0m\n\u001b[1;32m----> 1\u001b[1;33m \u001b[0mdelattr\u001b[0m\u001b[1;33m(\u001b[0m\u001b[0mbb\u001b[0m\u001b[1;33m,\u001b[0m\u001b[1;34m'custid'\u001b[0m\u001b[1;33m)\u001b[0m\u001b[1;33m\u001b[0m\u001b[1;33m\u001b[0m\u001b[0m\n\u001b[0m",
      "\u001b[1;31mAttributeError\u001b[0m: custid"
     ]
    }
   ],
   "source": [
    "delattr(bb,'custid')"
   ]
  },
  {
   "cell_type": "code",
   "execution_count": null,
   "metadata": {},
   "outputs": [],
   "source": [
    " "
   ]
  },
  {
   "cell_type": "code",
   "execution_count": null,
   "metadata": {},
   "outputs": [],
   "source": []
  }
 ],
 "metadata": {
  "kernelspec": {
   "display_name": "Python 3",
   "language": "python",
   "name": "python3"
  },
  "language_info": {
   "codemirror_mode": {
    "name": "ipython",
    "version": 3
   },
   "file_extension": ".py",
   "mimetype": "text/x-python",
   "name": "python",
   "nbconvert_exporter": "python",
   "pygments_lexer": "ipython3",
   "version": "3.9.1"
  }
 },
 "nbformat": 4,
 "nbformat_minor": 4
}
